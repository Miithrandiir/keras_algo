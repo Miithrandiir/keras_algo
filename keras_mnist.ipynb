{
 "cells": [
  {
   "cell_type": "code",
   "execution_count": 65,
   "metadata": {
    "collapsed": true
   },
   "outputs": [],
   "source": [
    "import tensorflow as tf\n",
    "import keras\n",
    "from keras.datasets import mnist"
   ]
  },
  {
   "cell_type": "code",
   "execution_count": 66,
   "outputs": [],
   "source": [
    "from keras import layers\n",
    "import numpy as np"
   ],
   "metadata": {
    "collapsed": false
   }
  },
  {
   "cell_type": "code",
   "execution_count": 67,
   "outputs": [
    {
     "name": "stdout",
     "output_type": "stream",
     "text": [
      "x_train shape: (60000, 28, 28, 1)\n",
      "60000 train samples\n",
      "10000 test samples\n"
     ]
    }
   ],
   "source": [
    "num_classes = 10\n",
    "input_shape = (28, 28, 1)\n",
    "\n",
    "# Load the data and split it between train and test sets\n",
    "(x_train, y_train), (x_test, y_test) = keras.datasets.mnist.load_data()\n",
    "\n",
    "# Scale images to the [0, 1] range\n",
    "x_train = x_train.astype(\"float32\") / 255\n",
    "x_test = x_test.astype(\"float32\") / 255\n",
    "# Make sure images have shape (28, 28, 1)\n",
    "x_train = np.expand_dims(x_train, -1)\n",
    "x_test = np.expand_dims(x_test, -1)\n",
    "print(\"x_train shape:\", x_train.shape)\n",
    "print(x_train.shape[0], \"train samples\")\n",
    "print(x_test.shape[0], \"test samples\")\n",
    "\n",
    "# convert class vectors to binary class matrices\n",
    "y_train = keras.utils.to_categorical(y_train, num_classes)\n",
    "y_test = keras.utils.to_categorical(y_test, num_classes)"
   ],
   "metadata": {
    "collapsed": false
   }
  },
  {
   "cell_type": "code",
   "execution_count": 92,
   "outputs": [],
   "source": [
    "model = keras.Sequential(\n",
    "    [\n",
    "        layers.Flatten(input_shape=(28,28)),\n",
    "        layers.Dense(28*28, activation='relu'),\n",
    "        layers.Dense(28, activation='relu'),\n",
    "        layers.Dropout(0.2),\n",
    "        layers.Dense(10, activation='softmax')\n",
    "    ]\n",
    ")"
   ],
   "metadata": {
    "collapsed": false
   }
  },
  {
   "cell_type": "code",
   "execution_count": 93,
   "outputs": [
    {
     "name": "stdout",
     "output_type": "stream",
     "text": [
      "Epoch 1/15\n",
      "188/188 [==============================] - 4s 17ms/step - loss: 0.4842 - accuracy: 0.8579 - val_loss: 0.1662 - val_accuracy: 0.9537\n",
      "Epoch 2/15\n",
      "188/188 [==============================] - 3s 16ms/step - loss: 0.1991 - accuracy: 0.9432 - val_loss: 0.1220 - val_accuracy: 0.9651\n",
      "Epoch 3/15\n",
      "188/188 [==============================] - 3s 16ms/step - loss: 0.1358 - accuracy: 0.9615 - val_loss: 0.1175 - val_accuracy: 0.9658\n",
      "Epoch 4/15\n",
      "188/188 [==============================] - 3s 16ms/step - loss: 0.1048 - accuracy: 0.9699 - val_loss: 0.0983 - val_accuracy: 0.9707\n",
      "Epoch 5/15\n",
      "188/188 [==============================] - 3s 16ms/step - loss: 0.0787 - accuracy: 0.9767 - val_loss: 0.0880 - val_accuracy: 0.9741\n",
      "Epoch 6/15\n",
      "188/188 [==============================] - 3s 16ms/step - loss: 0.0641 - accuracy: 0.9813 - val_loss: 0.0817 - val_accuracy: 0.9754\n",
      "Epoch 7/15\n",
      "188/188 [==============================] - 3s 16ms/step - loss: 0.0506 - accuracy: 0.9854 - val_loss: 0.0832 - val_accuracy: 0.9760\n",
      "Epoch 8/15\n",
      "188/188 [==============================] - 3s 16ms/step - loss: 0.0415 - accuracy: 0.9875 - val_loss: 0.0787 - val_accuracy: 0.9777\n",
      "Epoch 9/15\n",
      "188/188 [==============================] - 3s 16ms/step - loss: 0.0339 - accuracy: 0.9903 - val_loss: 0.0788 - val_accuracy: 0.9788\n",
      "Epoch 10/15\n",
      "188/188 [==============================] - 3s 16ms/step - loss: 0.0289 - accuracy: 0.9916 - val_loss: 0.0789 - val_accuracy: 0.9787\n",
      "Epoch 11/15\n",
      "188/188 [==============================] - 3s 16ms/step - loss: 0.0278 - accuracy: 0.9912 - val_loss: 0.0858 - val_accuracy: 0.9792\n",
      "Epoch 12/15\n",
      "188/188 [==============================] - 3s 16ms/step - loss: 0.0221 - accuracy: 0.9935 - val_loss: 0.0837 - val_accuracy: 0.9795\n",
      "Epoch 13/15\n",
      "188/188 [==============================] - 3s 16ms/step - loss: 0.0181 - accuracy: 0.9947 - val_loss: 0.0924 - val_accuracy: 0.9783\n",
      "Epoch 14/15\n",
      "188/188 [==============================] - 3s 16ms/step - loss: 0.0177 - accuracy: 0.9945 - val_loss: 0.0895 - val_accuracy: 0.9802\n",
      "Epoch 15/15\n",
      "188/188 [==============================] - 3s 16ms/step - loss: 0.0166 - accuracy: 0.9945 - val_loss: 0.0889 - val_accuracy: 0.9796\n",
      "Test loss: 0.07324936240911484\n",
      "Test accuracy: 0.9821000099182129\n"
     ]
    }
   ],
   "source": [
    "batch_size = 256\n",
    "epochs = 15\n",
    "\n",
    "model.compile(loss=\"categorical_crossentropy\", optimizer=\"adam\", metrics=[\"accuracy\"])\n",
    "model.fit(x_train, y_train, batch_size=batch_size, epochs=epochs, validation_split=0.2)\n",
    "score = model.evaluate(x_test, y_test, verbose=0)\n",
    "print(\"Test loss:\", score[0])\n",
    "print(\"Test accuracy:\", score[1])"
   ],
   "metadata": {
    "collapsed": false
   }
  },
  {
   "cell_type": "code",
   "execution_count": 69,
   "outputs": [],
   "source": [],
   "metadata": {
    "collapsed": false
   }
  }
 ],
 "metadata": {
  "kernelspec": {
   "display_name": "Python 3",
   "language": "python",
   "name": "python3"
  },
  "language_info": {
   "codemirror_mode": {
    "name": "ipython",
    "version": 2
   },
   "file_extension": ".py",
   "mimetype": "text/x-python",
   "name": "python",
   "nbconvert_exporter": "python",
   "pygments_lexer": "ipython2",
   "version": "2.7.6"
  }
 },
 "nbformat": 4,
 "nbformat_minor": 0
}
