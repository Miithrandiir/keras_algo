{
 "cells": [
  {
   "cell_type": "code",
   "execution_count": 14,
   "metadata": {
    "collapsed": true
   },
   "outputs": [],
   "source": [
    "import keras\n",
    "from keras import layers\n",
    "from keras.datasets import mnist\n",
    "import numpy as np"
   ]
  },
  {
   "cell_type": "code",
   "execution_count": 15,
   "outputs": [],
   "source": [
    "(x_train, y_train), (x_test, y_test) = keras.datasets.mnist.load_data()"
   ],
   "metadata": {
    "collapsed": false
   }
  },
  {
   "cell_type": "code",
   "execution_count": 16,
   "outputs": [
    {
     "name": "stdout",
     "output_type": "stream",
     "text": [
      "x_train shape: (60000, 28, 28, 1)\n",
      "60000 train samples\n",
      "10000 test samples\n"
     ]
    }
   ],
   "source": [
    "num_classes = 10\n",
    "# Scale images to the [0, 1] range\n",
    "x_train = x_train.astype(\"float32\") / 255\n",
    "x_test = x_test.astype(\"float32\") / 255\n",
    "# Make sure images have shape (28, 28, 1)\n",
    "x_train = np.expand_dims(x_train, -1)\n",
    "x_test = np.expand_dims(x_test, -1)\n",
    "print(\"x_train shape:\", x_train.shape)\n",
    "print(x_train.shape[0], \"train samples\")\n",
    "print(x_test.shape[0], \"test samples\")\n",
    "\n",
    "# convert class vectors to binary class matrices\n",
    "y_train = keras.utils.to_categorical(y_train, num_classes)\n",
    "y_test = keras.utils.to_categorical(y_test, num_classes)"
   ],
   "metadata": {
    "collapsed": false
   }
  },
  {
   "cell_type": "code",
   "execution_count": 35,
   "outputs": [
    {
     "name": "stdout",
     "output_type": "stream",
     "text": [
      "Model: \"sequential_10\"\n",
      "_________________________________________________________________\n",
      " Layer (type)                Output Shape              Param #   \n",
      "=================================================================\n",
      " conv2d_13 (Conv2D)          (None, 28, 28, 16)        160       \n",
      "                                                                 \n",
      " max_pooling2d_13 (MaxPoolin  (None, 14, 14, 16)       0         \n",
      " g2D)                                                            \n",
      "                                                                 \n",
      " conv2d_14 (Conv2D)          (None, 14, 14, 32)        4640      \n",
      "                                                                 \n",
      " max_pooling2d_14 (MaxPoolin  (None, 7, 7, 32)         0         \n",
      " g2D)                                                            \n",
      "                                                                 \n",
      " flatten_11 (Flatten)        (None, 1568)              0         \n",
      "                                                                 \n",
      " dense_10 (Dense)            (None, 10)                15690     \n",
      "                                                                 \n",
      " softmax_10 (Softmax)        (None, 10)                0         \n",
      "                                                                 \n",
      "=================================================================\n",
      "Total params: 20,490\n",
      "Trainable params: 20,490\n",
      "Non-trainable params: 0\n",
      "_________________________________________________________________\n"
     ]
    }
   ],
   "source": [
    "model = keras.Sequential(\n",
    "    [\n",
    "        layers.Input(shape=(28,28,1)),\n",
    "        layers.Conv2D(16, kernel_size=(3,3), data_format=\"channels_last\", padding=\"same\"),\n",
    "        layers.MaxPooling2D(),\n",
    "        layers.Conv2D(32, kernel_size=(3,3), data_format=\"channels_last\", padding=\"same\"),\n",
    "        layers.MaxPooling2D(),\n",
    "        layers.Flatten(),\n",
    "        layers.Dense(10),\n",
    "        layers.Softmax()\n",
    "    ]\n",
    ")\n",
    "model.build()\n",
    "model.summary()"
   ],
   "metadata": {
    "collapsed": false
   }
  },
  {
   "cell_type": "code",
   "execution_count": 36,
   "outputs": [
    {
     "name": "stdout",
     "output_type": "stream",
     "text": [
      "Epoch 1/15\n",
      "188/188 [==============================] - 5s 25ms/step - loss: 0.5436 - accuracy: 0.8492 - val_loss: 0.1925 - val_accuracy: 0.9468\n",
      "Epoch 2/15\n",
      "188/188 [==============================] - 4s 24ms/step - loss: 0.1542 - accuracy: 0.9545 - val_loss: 0.1144 - val_accuracy: 0.9692\n",
      "Epoch 3/15\n",
      "188/188 [==============================] - 5s 25ms/step - loss: 0.0986 - accuracy: 0.9711 - val_loss: 0.0891 - val_accuracy: 0.9747\n",
      "Epoch 4/15\n",
      "188/188 [==============================] - 5s 26ms/step - loss: 0.0758 - accuracy: 0.9772 - val_loss: 0.0740 - val_accuracy: 0.9779\n",
      "Epoch 5/15\n",
      "188/188 [==============================] - 5s 24ms/step - loss: 0.0635 - accuracy: 0.9813 - val_loss: 0.0670 - val_accuracy: 0.9798\n",
      "Epoch 6/15\n",
      "188/188 [==============================] - 5s 25ms/step - loss: 0.0544 - accuracy: 0.9835 - val_loss: 0.0637 - val_accuracy: 0.9803\n",
      "Epoch 7/15\n",
      "188/188 [==============================] - 5s 24ms/step - loss: 0.0488 - accuracy: 0.9854 - val_loss: 0.0578 - val_accuracy: 0.9822\n",
      "Epoch 8/15\n",
      "188/188 [==============================] - 5s 25ms/step - loss: 0.0444 - accuracy: 0.9860 - val_loss: 0.0558 - val_accuracy: 0.9826\n",
      "Epoch 9/15\n",
      "188/188 [==============================] - 4s 23ms/step - loss: 0.0417 - accuracy: 0.9874 - val_loss: 0.0585 - val_accuracy: 0.9818\n",
      "Epoch 10/15\n",
      "188/188 [==============================] - 5s 24ms/step - loss: 0.0359 - accuracy: 0.9889 - val_loss: 0.0546 - val_accuracy: 0.9833\n",
      "Epoch 11/15\n",
      "188/188 [==============================] - 5s 25ms/step - loss: 0.0349 - accuracy: 0.9892 - val_loss: 0.0508 - val_accuracy: 0.9843\n",
      "Epoch 12/15\n",
      "188/188 [==============================] - 4s 24ms/step - loss: 0.0316 - accuracy: 0.9906 - val_loss: 0.0523 - val_accuracy: 0.9843\n",
      "Epoch 13/15\n",
      "188/188 [==============================] - 5s 26ms/step - loss: 0.0289 - accuracy: 0.9910 - val_loss: 0.0533 - val_accuracy: 0.9843\n",
      "Epoch 14/15\n",
      "188/188 [==============================] - 5s 25ms/step - loss: 0.0266 - accuracy: 0.9916 - val_loss: 0.0541 - val_accuracy: 0.9842\n",
      "Epoch 15/15\n",
      "188/188 [==============================] - 5s 25ms/step - loss: 0.0246 - accuracy: 0.9922 - val_loss: 0.0579 - val_accuracy: 0.9841\n",
      "Test loss: 0.04727848991751671\n",
      "Test accuracy: 0.9861999750137329\n"
     ]
    }
   ],
   "source": [
    "batch_size = 256\n",
    "epochs = 15\n",
    "\n",
    "model.compile(loss=\"categorical_crossentropy\", optimizer=\"adam\", metrics=[\"accuracy\"])\n",
    "model.fit(x_train, y_train, batch_size=batch_size, epochs=epochs, validation_split=0.2)\n",
    "score = model.evaluate(x_test, y_test, verbose=0)\n",
    "print(\"Test loss:\", score[0])\n",
    "print(\"Test accuracy:\", score[1])"
   ],
   "metadata": {
    "collapsed": false
   }
  },
  {
   "cell_type": "code",
   "execution_count": null,
   "outputs": [],
   "source": [],
   "metadata": {
    "collapsed": false
   }
  }
 ],
 "metadata": {
  "kernelspec": {
   "display_name": "Python 3",
   "language": "python",
   "name": "python3"
  },
  "language_info": {
   "codemirror_mode": {
    "name": "ipython",
    "version": 2
   },
   "file_extension": ".py",
   "mimetype": "text/x-python",
   "name": "python",
   "nbconvert_exporter": "python",
   "pygments_lexer": "ipython2",
   "version": "2.7.6"
  }
 },
 "nbformat": 4,
 "nbformat_minor": 0
}
