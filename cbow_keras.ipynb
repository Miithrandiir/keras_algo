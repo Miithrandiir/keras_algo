{
 "cells": [
  {
   "cell_type": "code",
   "execution_count": 71,
   "outputs": [],
   "source": [
    "import keras.backend as K\n",
    "import tensorflow as tf\n",
    "import keras\n",
    "import keras.layers as layer\n",
    "import numpy as np\n",
    "\n",
    "dataset = tf.data.TextLineDataset(\"data/europarl-v7-light.en\")\n",
    "\n",
    "\n",
    "def custom_standardization(input_data):\n",
    "    return tf.strings.lower(input_data)\n",
    "\n",
    "\n",
    "t_layer = keras.layers.TextVectorization(standardize=custom_standardization, output_mode='int')\n",
    "t_layer.adapt(dataset)\n",
    "\n",
    "vocab_size = t_layer.vocabulary_size()\n",
    "\n",
    "window_size = 2  # context window size\n",
    "embed_size = 100"
   ],
   "metadata": {
    "collapsed": false
   }
  },
  {
   "cell_type": "code",
   "execution_count": 228,
   "outputs": [],
   "source": [
    "from keras.preprocessing.text import text_to_word_sequence\n",
    "from keras.utils import np_utils\n",
    "\n",
    "x_train = []\n",
    "y_train = []\n",
    "\n",
    "train = []\n",
    "\n",
    "for s in dataset:\n",
    "    split = tf.strings.split(s, sep=' ')\n",
    "\n",
    "    for i in range(window_size, len(split) - window_size):\n",
    "        xs = []\n",
    "        for j in range(i - window_size, i):\n",
    "            xs.append(split[j])\n",
    "        for j in range(i + 1, min(i + window_size + 1, len(split))):\n",
    "            xs.append(split[j])\n",
    "\n",
    "        xs_join = ' '.join([str(x.numpy().decode('utf-8')) for x in xs])\n",
    "        y_join = int(t_layer(split[i]).numpy())\n",
    "        y_temp = np.zeros(vocab_size)\n",
    "        y_temp[y_join] = 1\n",
    "        x_train.append(str(xs_join))\n",
    "        y_train.append(y_temp.tolist())\n",
    "\n",
    "        train.append((xs_join, y_join))"
   ],
   "metadata": {
    "collapsed": false
   }
  },
  {
   "cell_type": "code",
   "execution_count": 234,
   "outputs": [
    {
     "name": "stderr",
     "output_type": "stream",
     "text": [
      "IOPub data rate exceeded.\n",
      "The notebook server will temporarily stop sending output\n",
      "to the client in order to avoid crashing it.\n",
      "To change this limit, set the config variable\n",
      "`--NotebookApp.iopub_data_rate_limit`.\n",
      "\n",
      "Current values:\n",
      "NotebookApp.iopub_data_rate_limit=1000000.0 (bytes/sec)\n",
      "NotebookApp.rate_limit_window=3.0 (secs)\n",
      "\n"
     ]
    }
   ],
   "source": [
    "print(x_train)\n",
    "print(y_train)"
   ],
   "metadata": {
    "collapsed": false
   }
  },
  {
   "cell_type": "code",
   "execution_count": 230,
   "outputs": [],
   "source": [
    "def generate_cbow():\n",
    "    cbow = keras.Sequential()\n",
    "    cbow.add(keras.layers.Input(shape=(1,), dtype=tf.string))\n",
    "    cbow.add(t_layer)\n",
    "    cbow.add(keras.layers.Embedding(vocab_size, embed_size, name=\"embedding\"))\n",
    "    cbow.add(keras.layers.Lambda(lambda x: K.mean(x, axis=-2), output_shape=(4, 100)))\n",
    "    cbow.add(keras.layers.Dense(vocab_size, activation='softmax'))\n",
    "\n",
    "    return cbow"
   ],
   "metadata": {
    "collapsed": false
   }
  },
  {
   "cell_type": "code",
   "execution_count": 236,
   "outputs": [
    {
     "name": "stdout",
     "output_type": "stream",
     "text": [
      "Model: \"sequential_24\"\n",
      "_________________________________________________________________\n",
      " Layer (type)                Output Shape              Param #   \n",
      "=================================================================\n",
      " text_vectorization_7 (TextV  (None, None)             0         \n",
      " ectorization)                                                   \n",
      "                                                                 \n",
      " embedding (Embedding)       (None, None, 100)         158600    \n",
      "                                                                 \n",
      " lambda_19 (Lambda)          (None, 100)               0         \n",
      "                                                                 \n",
      " dense_19 (Dense)            (None, 1586)              160186    \n",
      "                                                                 \n",
      "=================================================================\n",
      "Total params: 318,786\n",
      "Trainable params: 318,786\n",
      "Non-trainable params: 0\n",
      "_________________________________________________________________\n"
     ]
    }
   ],
   "source": [
    "model = generate_cbow()\n",
    "\n",
    "model.build()\n",
    "model.summary()\n",
    "\n",
    "model.compile(loss='categorical_crossentropy', optimizer='adam', metrics=['accuracy'])\n",
    "\n"
   ],
   "metadata": {
    "collapsed": false
   }
  },
  {
   "cell_type": "code",
   "execution_count": 256,
   "outputs": [
    {
     "name": "stdout",
     "output_type": "stream",
     "text": [
      "Epoch 1/200\n",
      "149/149 [==============================] - 0s 3ms/step - loss: 2.5357 - accuracy: 0.4874\n",
      "Epoch 2/200\n",
      "149/149 [==============================] - 0s 3ms/step - loss: 2.3501 - accuracy: 0.5296\n",
      "Epoch 3/200\n",
      "149/149 [==============================] - 0s 3ms/step - loss: 2.1819 - accuracy: 0.5640\n",
      "Epoch 4/200\n",
      "149/149 [==============================] - 0s 3ms/step - loss: 2.0290 - accuracy: 0.5986\n",
      "Epoch 5/200\n",
      "149/149 [==============================] - 0s 3ms/step - loss: 1.8882 - accuracy: 0.6292\n",
      "Epoch 6/200\n",
      "149/149 [==============================] - 1s 3ms/step - loss: 1.7571 - accuracy: 0.6604\n",
      "Epoch 7/200\n",
      "149/149 [==============================] - 1s 3ms/step - loss: 1.6359 - accuracy: 0.6937\n",
      "Epoch 8/200\n",
      "149/149 [==============================] - 1s 3ms/step - loss: 1.5241 - accuracy: 0.7199\n",
      "Epoch 9/200\n",
      "149/149 [==============================] - 0s 3ms/step - loss: 1.4186 - accuracy: 0.7475\n",
      "Epoch 10/200\n",
      "149/149 [==============================] - 0s 3ms/step - loss: 1.3214 - accuracy: 0.7695\n",
      "Epoch 11/200\n",
      "149/149 [==============================] - 0s 3ms/step - loss: 1.2301 - accuracy: 0.7924\n",
      "Epoch 12/200\n",
      "149/149 [==============================] - 0s 3ms/step - loss: 1.1464 - accuracy: 0.8102\n",
      "Epoch 13/200\n",
      "149/149 [==============================] - 1s 4ms/step - loss: 1.0671 - accuracy: 0.8306\n",
      "Epoch 14/200\n",
      "149/149 [==============================] - 1s 3ms/step - loss: 0.9944 - accuracy: 0.8475\n",
      "Epoch 15/200\n",
      "149/149 [==============================] - 0s 3ms/step - loss: 0.9256 - accuracy: 0.8587\n",
      "Epoch 16/200\n",
      "149/149 [==============================] - 1s 3ms/step - loss: 0.8623 - accuracy: 0.8709\n",
      "Epoch 17/200\n",
      "149/149 [==============================] - 0s 3ms/step - loss: 0.8029 - accuracy: 0.8872\n",
      "Epoch 18/200\n",
      "149/149 [==============================] - 0s 3ms/step - loss: 0.7479 - accuracy: 0.8950\n",
      "Epoch 19/200\n",
      "149/149 [==============================] - 1s 3ms/step - loss: 0.6973 - accuracy: 0.9070\n",
      "Epoch 20/200\n",
      "149/149 [==============================] - 1s 3ms/step - loss: 0.6499 - accuracy: 0.9169\n",
      "Epoch 21/200\n",
      "149/149 [==============================] - 1s 3ms/step - loss: 0.6056 - accuracy: 0.9243\n",
      "Epoch 22/200\n",
      "149/149 [==============================] - 0s 3ms/step - loss: 0.5644 - accuracy: 0.9331\n",
      "Epoch 23/200\n",
      "149/149 [==============================] - 1s 3ms/step - loss: 0.5268 - accuracy: 0.9399\n",
      "Epoch 24/200\n",
      "149/149 [==============================] - 1s 3ms/step - loss: 0.4916 - accuracy: 0.9454\n",
      "Epoch 25/200\n",
      "149/149 [==============================] - 1s 3ms/step - loss: 0.4591 - accuracy: 0.9525\n",
      "Epoch 26/200\n",
      "149/149 [==============================] - 0s 3ms/step - loss: 0.4286 - accuracy: 0.9540\n",
      "Epoch 27/200\n",
      "149/149 [==============================] - 0s 3ms/step - loss: 0.4007 - accuracy: 0.9574\n",
      "Epoch 28/200\n",
      "149/149 [==============================] - 0s 3ms/step - loss: 0.3745 - accuracy: 0.9599\n",
      "Epoch 29/200\n",
      "149/149 [==============================] - 1s 3ms/step - loss: 0.3506 - accuracy: 0.9652\n",
      "Epoch 30/200\n",
      "149/149 [==============================] - 0s 3ms/step - loss: 0.3278 - accuracy: 0.9669\n",
      "Epoch 31/200\n",
      "149/149 [==============================] - 0s 3ms/step - loss: 0.3073 - accuracy: 0.9677\n",
      "Epoch 32/200\n",
      "149/149 [==============================] - 0s 3ms/step - loss: 0.2877 - accuracy: 0.9686\n",
      "Epoch 33/200\n",
      "149/149 [==============================] - 0s 3ms/step - loss: 0.2700 - accuracy: 0.9711\n",
      "Epoch 34/200\n",
      "149/149 [==============================] - 0s 3ms/step - loss: 0.2530 - accuracy: 0.9743\n",
      "Epoch 35/200\n",
      "149/149 [==============================] - 1s 3ms/step - loss: 0.2373 - accuracy: 0.9757\n",
      "Epoch 36/200\n",
      "149/149 [==============================] - 1s 3ms/step - loss: 0.2229 - accuracy: 0.9772\n",
      "Epoch 37/200\n",
      "149/149 [==============================] - 1s 3ms/step - loss: 0.2094 - accuracy: 0.9785\n",
      "Epoch 38/200\n",
      "149/149 [==============================] - 1s 3ms/step - loss: 0.1968 - accuracy: 0.9793\n",
      "Epoch 39/200\n",
      "149/149 [==============================] - 1s 3ms/step - loss: 0.1848 - accuracy: 0.9808\n",
      "Epoch 40/200\n",
      "149/149 [==============================] - 1s 3ms/step - loss: 0.1739 - accuracy: 0.9821\n",
      "Epoch 41/200\n",
      "149/149 [==============================] - 0s 3ms/step - loss: 0.1638 - accuracy: 0.9829\n",
      "Epoch 42/200\n",
      "149/149 [==============================] - 0s 3ms/step - loss: 0.1541 - accuracy: 0.9831\n",
      "Epoch 43/200\n",
      "149/149 [==============================] - 1s 3ms/step - loss: 0.1453 - accuracy: 0.9835\n",
      "Epoch 44/200\n",
      "149/149 [==============================] - 0s 3ms/step - loss: 0.1371 - accuracy: 0.9852\n",
      "Epoch 45/200\n",
      "149/149 [==============================] - 1s 3ms/step - loss: 0.1293 - accuracy: 0.9852\n",
      "Epoch 46/200\n",
      "149/149 [==============================] - 0s 3ms/step - loss: 0.1218 - accuracy: 0.9873\n",
      "Epoch 47/200\n",
      "149/149 [==============================] - 1s 3ms/step - loss: 0.1152 - accuracy: 0.9867\n",
      "Epoch 48/200\n",
      "149/149 [==============================] - 0s 3ms/step - loss: 0.1088 - accuracy: 0.9880\n",
      "Epoch 49/200\n",
      "149/149 [==============================] - 0s 3ms/step - loss: 0.1031 - accuracy: 0.9882\n",
      "Epoch 50/200\n",
      "149/149 [==============================] - 1s 4ms/step - loss: 0.0976 - accuracy: 0.9884\n",
      "Epoch 51/200\n",
      "149/149 [==============================] - 0s 3ms/step - loss: 0.0926 - accuracy: 0.9878\n",
      "Epoch 52/200\n",
      "149/149 [==============================] - 1s 4ms/step - loss: 0.0876 - accuracy: 0.9897\n",
      "Epoch 53/200\n",
      "149/149 [==============================] - 0s 3ms/step - loss: 0.0830 - accuracy: 0.9888\n",
      "Epoch 54/200\n",
      "149/149 [==============================] - 1s 3ms/step - loss: 0.0790 - accuracy: 0.9901\n",
      "Epoch 55/200\n",
      "149/149 [==============================] - 1s 3ms/step - loss: 0.0751 - accuracy: 0.9895\n",
      "Epoch 56/200\n",
      "149/149 [==============================] - 0s 3ms/step - loss: 0.0712 - accuracy: 0.9897\n",
      "Epoch 57/200\n",
      "149/149 [==============================] - 0s 3ms/step - loss: 0.0682 - accuracy: 0.9907\n",
      "Epoch 58/200\n",
      "149/149 [==============================] - 0s 3ms/step - loss: 0.0648 - accuracy: 0.9895\n",
      "Epoch 59/200\n",
      "149/149 [==============================] - 1s 3ms/step - loss: 0.0619 - accuracy: 0.9903\n",
      "Epoch 60/200\n",
      "149/149 [==============================] - 1s 3ms/step - loss: 0.0593 - accuracy: 0.9905\n",
      "Epoch 61/200\n",
      "149/149 [==============================] - 0s 3ms/step - loss: 0.0562 - accuracy: 0.9914\n",
      "Epoch 62/200\n",
      "149/149 [==============================] - 1s 3ms/step - loss: 0.0536 - accuracy: 0.9911\n",
      "Epoch 63/200\n",
      "149/149 [==============================] - 0s 3ms/step - loss: 0.0516 - accuracy: 0.9901\n",
      "Epoch 64/200\n",
      "149/149 [==============================] - 0s 3ms/step - loss: 0.0494 - accuracy: 0.9911\n",
      "Epoch 65/200\n",
      "149/149 [==============================] - 1s 3ms/step - loss: 0.0475 - accuracy: 0.9899\n",
      "Epoch 66/200\n",
      "149/149 [==============================] - 1s 3ms/step - loss: 0.0455 - accuracy: 0.9897\n",
      "Epoch 67/200\n",
      "149/149 [==============================] - 1s 3ms/step - loss: 0.0437 - accuracy: 0.9905\n",
      "Epoch 68/200\n",
      "149/149 [==============================] - 1s 3ms/step - loss: 0.0418 - accuracy: 0.9905\n",
      "Epoch 69/200\n",
      "149/149 [==============================] - 1s 4ms/step - loss: 0.0404 - accuracy: 0.9903\n",
      "Epoch 70/200\n",
      "149/149 [==============================] - 1s 3ms/step - loss: 0.0389 - accuracy: 0.9903\n",
      "Epoch 71/200\n",
      "149/149 [==============================] - 1s 4ms/step - loss: 0.0379 - accuracy: 0.9907\n",
      "Epoch 72/200\n",
      "149/149 [==============================] - 0s 3ms/step - loss: 0.0363 - accuracy: 0.9901\n",
      "Epoch 73/200\n",
      "149/149 [==============================] - 0s 3ms/step - loss: 0.0348 - accuracy: 0.9905\n",
      "Epoch 74/200\n",
      "149/149 [==============================] - 0s 3ms/step - loss: 0.0335 - accuracy: 0.9916\n",
      "Epoch 75/200\n",
      "149/149 [==============================] - 0s 3ms/step - loss: 0.0329 - accuracy: 0.9907\n",
      "Epoch 76/200\n",
      "149/149 [==============================] - 0s 3ms/step - loss: 0.0314 - accuracy: 0.9909\n",
      "Epoch 77/200\n",
      "149/149 [==============================] - 1s 3ms/step - loss: 0.0307 - accuracy: 0.9905\n",
      "Epoch 78/200\n",
      "149/149 [==============================] - 1s 3ms/step - loss: 0.0296 - accuracy: 0.9914\n",
      "Epoch 79/200\n",
      "149/149 [==============================] - 0s 3ms/step - loss: 0.0290 - accuracy: 0.9897\n",
      "Epoch 80/200\n",
      "149/149 [==============================] - 0s 3ms/step - loss: 0.0282 - accuracy: 0.9909\n",
      "Epoch 81/200\n",
      "149/149 [==============================] - 1s 3ms/step - loss: 0.0274 - accuracy: 0.9907\n",
      "Epoch 82/200\n",
      "149/149 [==============================] - 1s 3ms/step - loss: 0.0265 - accuracy: 0.9909\n",
      "Epoch 83/200\n",
      "149/149 [==============================] - 0s 3ms/step - loss: 0.0261 - accuracy: 0.9895\n",
      "Epoch 84/200\n",
      "149/149 [==============================] - 0s 3ms/step - loss: 0.0254 - accuracy: 0.9903\n",
      "Epoch 85/200\n",
      "149/149 [==============================] - 0s 3ms/step - loss: 0.0248 - accuracy: 0.9905\n",
      "Epoch 86/200\n",
      "149/149 [==============================] - 1s 3ms/step - loss: 0.0245 - accuracy: 0.9914\n",
      "Epoch 87/200\n",
      "149/149 [==============================] - 0s 3ms/step - loss: 0.0237 - accuracy: 0.9903\n",
      "Epoch 88/200\n",
      "149/149 [==============================] - 1s 3ms/step - loss: 0.0234 - accuracy: 0.9895\n",
      "Epoch 89/200\n",
      "149/149 [==============================] - 1s 3ms/step - loss: 0.0227 - accuracy: 0.9911\n",
      "Epoch 90/200\n",
      "149/149 [==============================] - 1s 3ms/step - loss: 0.0221 - accuracy: 0.9901\n",
      "Epoch 91/200\n",
      "149/149 [==============================] - 0s 3ms/step - loss: 0.0217 - accuracy: 0.9903\n",
      "Epoch 92/200\n",
      "149/149 [==============================] - 1s 3ms/step - loss: 0.0212 - accuracy: 0.9905\n",
      "Epoch 93/200\n",
      "149/149 [==============================] - 1s 3ms/step - loss: 0.0211 - accuracy: 0.9909\n",
      "Epoch 94/200\n",
      "149/149 [==============================] - 1s 3ms/step - loss: 0.0204 - accuracy: 0.9903\n",
      "Epoch 95/200\n",
      "149/149 [==============================] - 1s 3ms/step - loss: 0.0199 - accuracy: 0.9903\n",
      "Epoch 96/200\n",
      "149/149 [==============================] - 0s 3ms/step - loss: 0.0198 - accuracy: 0.9903\n",
      "Epoch 97/200\n",
      "149/149 [==============================] - 1s 3ms/step - loss: 0.0196 - accuracy: 0.9895\n",
      "Epoch 98/200\n",
      "149/149 [==============================] - 0s 3ms/step - loss: 0.0192 - accuracy: 0.9905\n",
      "Epoch 99/200\n",
      "149/149 [==============================] - 0s 3ms/step - loss: 0.0192 - accuracy: 0.9905\n",
      "Epoch 100/200\n",
      "149/149 [==============================] - 0s 3ms/step - loss: 0.0190 - accuracy: 0.9892\n",
      "Epoch 101/200\n",
      "149/149 [==============================] - 1s 3ms/step - loss: 0.0185 - accuracy: 0.9895\n",
      "Epoch 102/200\n",
      "149/149 [==============================] - 0s 3ms/step - loss: 0.0182 - accuracy: 0.9907\n",
      "Epoch 103/200\n",
      "149/149 [==============================] - 1s 3ms/step - loss: 0.0182 - accuracy: 0.9914\n",
      "Epoch 104/200\n",
      "149/149 [==============================] - 1s 3ms/step - loss: 0.0181 - accuracy: 0.9901\n",
      "Epoch 105/200\n",
      "149/149 [==============================] - 1s 3ms/step - loss: 0.0176 - accuracy: 0.9907\n",
      "Epoch 106/200\n",
      "149/149 [==============================] - 1s 3ms/step - loss: 0.0174 - accuracy: 0.9901\n",
      "Epoch 107/200\n",
      "149/149 [==============================] - 0s 3ms/step - loss: 0.0173 - accuracy: 0.9905\n",
      "Epoch 108/200\n",
      "149/149 [==============================] - 1s 3ms/step - loss: 0.0174 - accuracy: 0.9914\n",
      "Epoch 109/200\n",
      "149/149 [==============================] - 1s 3ms/step - loss: 0.0169 - accuracy: 0.9905\n",
      "Epoch 110/200\n",
      "149/149 [==============================] - 0s 3ms/step - loss: 0.0168 - accuracy: 0.9901\n",
      "Epoch 111/200\n",
      "149/149 [==============================] - 1s 3ms/step - loss: 0.0166 - accuracy: 0.9907\n",
      "Epoch 112/200\n",
      "149/149 [==============================] - 1s 3ms/step - loss: 0.0165 - accuracy: 0.9909\n",
      "Epoch 113/200\n",
      "149/149 [==============================] - 0s 3ms/step - loss: 0.0164 - accuracy: 0.9911\n",
      "Epoch 114/200\n",
      "149/149 [==============================] - 0s 3ms/step - loss: 0.0161 - accuracy: 0.9899\n",
      "Epoch 115/200\n",
      "149/149 [==============================] - 0s 3ms/step - loss: 0.0162 - accuracy: 0.9901\n",
      "Epoch 116/200\n",
      "149/149 [==============================] - 0s 3ms/step - loss: 0.0162 - accuracy: 0.9905\n",
      "Epoch 117/200\n",
      "149/149 [==============================] - 0s 3ms/step - loss: 0.0161 - accuracy: 0.9909\n",
      "Epoch 118/200\n",
      "149/149 [==============================] - 0s 3ms/step - loss: 0.0158 - accuracy: 0.9903\n",
      "Epoch 119/200\n",
      "149/149 [==============================] - 1s 3ms/step - loss: 0.0158 - accuracy: 0.9901\n",
      "Epoch 120/200\n",
      "149/149 [==============================] - 1s 3ms/step - loss: 0.0155 - accuracy: 0.9909\n",
      "Epoch 121/200\n",
      "149/149 [==============================] - 1s 3ms/step - loss: 0.0158 - accuracy: 0.9897\n",
      "Epoch 122/200\n",
      "149/149 [==============================] - 0s 3ms/step - loss: 0.0157 - accuracy: 0.9907\n",
      "Epoch 123/200\n",
      "149/149 [==============================] - 0s 3ms/step - loss: 0.0153 - accuracy: 0.9899\n",
      "Epoch 124/200\n",
      "149/149 [==============================] - 0s 3ms/step - loss: 0.0153 - accuracy: 0.9916\n",
      "Epoch 125/200\n",
      "149/149 [==============================] - 1s 3ms/step - loss: 0.0153 - accuracy: 0.9899\n",
      "Epoch 126/200\n",
      "149/149 [==============================] - 1s 3ms/step - loss: 0.0152 - accuracy: 0.9903\n",
      "Epoch 127/200\n",
      "149/149 [==============================] - 1s 4ms/step - loss: 0.0150 - accuracy: 0.9914\n",
      "Epoch 128/200\n",
      "149/149 [==============================] - 0s 3ms/step - loss: 0.0147 - accuracy: 0.9911\n",
      "Epoch 129/200\n",
      "149/149 [==============================] - 0s 3ms/step - loss: 0.0148 - accuracy: 0.9920\n",
      "Epoch 130/200\n",
      "149/149 [==============================] - 0s 3ms/step - loss: 0.0151 - accuracy: 0.9907\n",
      "Epoch 131/200\n",
      "149/149 [==============================] - 1s 3ms/step - loss: 0.0149 - accuracy: 0.9907\n",
      "Epoch 132/200\n",
      "149/149 [==============================] - 1s 3ms/step - loss: 0.0149 - accuracy: 0.9905\n",
      "Epoch 133/200\n",
      "149/149 [==============================] - 1s 3ms/step - loss: 0.0151 - accuracy: 0.9901\n",
      "Epoch 134/200\n",
      "149/149 [==============================] - 0s 3ms/step - loss: 0.0148 - accuracy: 0.9911\n",
      "Epoch 135/200\n",
      "149/149 [==============================] - 1s 3ms/step - loss: 0.0147 - accuracy: 0.9903\n",
      "Epoch 136/200\n",
      "149/149 [==============================] - 1s 3ms/step - loss: 0.0147 - accuracy: 0.9914\n",
      "Epoch 137/200\n",
      "149/149 [==============================] - 1s 3ms/step - loss: 0.0148 - accuracy: 0.9905\n",
      "Epoch 138/200\n",
      "149/149 [==============================] - 0s 3ms/step - loss: 0.0148 - accuracy: 0.9916\n",
      "Epoch 139/200\n",
      "149/149 [==============================] - 1s 3ms/step - loss: 0.0150 - accuracy: 0.9909\n",
      "Epoch 140/200\n",
      "149/149 [==============================] - 1s 3ms/step - loss: 0.0146 - accuracy: 0.9911\n",
      "Epoch 141/200\n",
      "149/149 [==============================] - 0s 3ms/step - loss: 0.0146 - accuracy: 0.9905\n",
      "Epoch 142/200\n",
      "149/149 [==============================] - 1s 3ms/step - loss: 0.0143 - accuracy: 0.9899\n",
      "Epoch 143/200\n",
      "149/149 [==============================] - 1s 4ms/step - loss: 0.0140 - accuracy: 0.9899\n",
      "Epoch 144/200\n",
      "149/149 [==============================] - 1s 3ms/step - loss: 0.0142 - accuracy: 0.9903\n",
      "Epoch 145/200\n",
      "149/149 [==============================] - 0s 3ms/step - loss: 0.0146 - accuracy: 0.9914\n",
      "Epoch 146/200\n",
      "149/149 [==============================] - 1s 3ms/step - loss: 0.0143 - accuracy: 0.9899\n",
      "Epoch 147/200\n",
      "149/149 [==============================] - 1s 3ms/step - loss: 0.0144 - accuracy: 0.9903\n",
      "Epoch 148/200\n",
      "149/149 [==============================] - 1s 3ms/step - loss: 0.0143 - accuracy: 0.9905\n",
      "Epoch 149/200\n",
      "149/149 [==============================] - 1s 3ms/step - loss: 0.0138 - accuracy: 0.9907\n",
      "Epoch 150/200\n",
      "149/149 [==============================] - 1s 3ms/step - loss: 0.0142 - accuracy: 0.9903\n",
      "Epoch 151/200\n",
      "149/149 [==============================] - 1s 3ms/step - loss: 0.0141 - accuracy: 0.9920\n",
      "Epoch 152/200\n",
      "149/149 [==============================] - 1s 3ms/step - loss: 0.0144 - accuracy: 0.9909\n",
      "Epoch 153/200\n",
      "149/149 [==============================] - 1s 3ms/step - loss: 0.0140 - accuracy: 0.9903\n",
      "Epoch 154/200\n",
      "149/149 [==============================] - 1s 3ms/step - loss: 0.0140 - accuracy: 0.9899\n",
      "Epoch 155/200\n",
      "149/149 [==============================] - 1s 3ms/step - loss: 0.0139 - accuracy: 0.9909\n",
      "Epoch 156/200\n",
      "149/149 [==============================] - 1s 3ms/step - loss: 0.0144 - accuracy: 0.9907\n",
      "Epoch 157/200\n",
      "149/149 [==============================] - 0s 3ms/step - loss: 0.0141 - accuracy: 0.9901\n",
      "Epoch 158/200\n",
      "149/149 [==============================] - 0s 3ms/step - loss: 0.0141 - accuracy: 0.9903\n",
      "Epoch 159/200\n",
      "149/149 [==============================] - 0s 3ms/step - loss: 0.0141 - accuracy: 0.9897\n",
      "Epoch 160/200\n",
      "149/149 [==============================] - 1s 3ms/step - loss: 0.0141 - accuracy: 0.9907\n",
      "Epoch 161/200\n",
      "149/149 [==============================] - 0s 3ms/step - loss: 0.0140 - accuracy: 0.9903\n",
      "Epoch 162/200\n",
      "149/149 [==============================] - 1s 3ms/step - loss: 0.0140 - accuracy: 0.9903\n",
      "Epoch 163/200\n",
      "149/149 [==============================] - 0s 3ms/step - loss: 0.0141 - accuracy: 0.9907\n",
      "Epoch 164/200\n",
      "149/149 [==============================] - 1s 3ms/step - loss: 0.0138 - accuracy: 0.9907\n",
      "Epoch 165/200\n",
      "149/149 [==============================] - 0s 3ms/step - loss: 0.0148 - accuracy: 0.9895\n",
      "Epoch 166/200\n",
      "149/149 [==============================] - 0s 3ms/step - loss: 0.0139 - accuracy: 0.9899\n",
      "Epoch 167/200\n",
      "149/149 [==============================] - 1s 3ms/step - loss: 0.0138 - accuracy: 0.9911\n",
      "Epoch 168/200\n",
      "149/149 [==============================] - 1s 3ms/step - loss: 0.0140 - accuracy: 0.9907\n",
      "Epoch 169/200\n",
      "149/149 [==============================] - 1s 3ms/step - loss: 0.0140 - accuracy: 0.9901\n",
      "Epoch 170/200\n",
      "149/149 [==============================] - 0s 3ms/step - loss: 0.0139 - accuracy: 0.9903\n",
      "Epoch 171/200\n",
      "149/149 [==============================] - 0s 3ms/step - loss: 0.0140 - accuracy: 0.9903\n",
      "Epoch 172/200\n",
      "149/149 [==============================] - 1s 3ms/step - loss: 0.0138 - accuracy: 0.9901\n",
      "Epoch 173/200\n",
      "149/149 [==============================] - 1s 3ms/step - loss: 0.0139 - accuracy: 0.9907\n",
      "Epoch 174/200\n",
      "149/149 [==============================] - 1s 3ms/step - loss: 0.0138 - accuracy: 0.9901\n",
      "Epoch 175/200\n",
      "149/149 [==============================] - 1s 3ms/step - loss: 0.0140 - accuracy: 0.9914\n",
      "Epoch 176/200\n",
      "149/149 [==============================] - 0s 3ms/step - loss: 0.0139 - accuracy: 0.9903\n",
      "Epoch 177/200\n",
      "149/149 [==============================] - 1s 4ms/step - loss: 0.0137 - accuracy: 0.9907\n",
      "Epoch 178/200\n",
      "149/149 [==============================] - 1s 3ms/step - loss: 0.0138 - accuracy: 0.9905\n",
      "Epoch 179/200\n",
      "149/149 [==============================] - 1s 3ms/step - loss: 0.0139 - accuracy: 0.9907\n",
      "Epoch 180/200\n",
      "149/149 [==============================] - 1s 3ms/step - loss: 0.0137 - accuracy: 0.9911\n",
      "Epoch 181/200\n",
      "149/149 [==============================] - 1s 3ms/step - loss: 0.0140 - accuracy: 0.9905\n",
      "Epoch 182/200\n",
      "149/149 [==============================] - 1s 3ms/step - loss: 0.0140 - accuracy: 0.9901\n",
      "Epoch 183/200\n",
      "149/149 [==============================] - 1s 3ms/step - loss: 0.0138 - accuracy: 0.9905\n",
      "Epoch 184/200\n",
      "149/149 [==============================] - 1s 3ms/step - loss: 0.0138 - accuracy: 0.9905\n",
      "Epoch 185/200\n",
      "149/149 [==============================] - 0s 3ms/step - loss: 0.0139 - accuracy: 0.9892\n",
      "Epoch 186/200\n",
      "149/149 [==============================] - 1s 4ms/step - loss: 0.0137 - accuracy: 0.9903\n",
      "Epoch 187/200\n",
      "149/149 [==============================] - 1s 4ms/step - loss: 0.0139 - accuracy: 0.9905\n",
      "Epoch 188/200\n",
      "149/149 [==============================] - 1s 3ms/step - loss: 0.0137 - accuracy: 0.9914\n",
      "Epoch 189/200\n",
      "149/149 [==============================] - 1s 3ms/step - loss: 0.0136 - accuracy: 0.9901\n",
      "Epoch 190/200\n",
      "149/149 [==============================] - 1s 3ms/step - loss: 0.0138 - accuracy: 0.9907\n",
      "Epoch 191/200\n",
      "149/149 [==============================] - 0s 3ms/step - loss: 0.0139 - accuracy: 0.9903\n",
      "Epoch 192/200\n",
      "149/149 [==============================] - 1s 3ms/step - loss: 0.0136 - accuracy: 0.9916\n",
      "Epoch 193/200\n",
      "149/149 [==============================] - 1s 3ms/step - loss: 0.0139 - accuracy: 0.9911\n",
      "Epoch 194/200\n",
      "149/149 [==============================] - 1s 3ms/step - loss: 0.0138 - accuracy: 0.9892\n",
      "Epoch 195/200\n",
      "149/149 [==============================] - 1s 3ms/step - loss: 0.0137 - accuracy: 0.9901\n",
      "Epoch 196/200\n",
      "149/149 [==============================] - 0s 3ms/step - loss: 0.0138 - accuracy: 0.9907\n",
      "Epoch 197/200\n",
      "149/149 [==============================] - 1s 3ms/step - loss: 0.0138 - accuracy: 0.9907\n",
      "Epoch 198/200\n",
      "149/149 [==============================] - 1s 3ms/step - loss: 0.0137 - accuracy: 0.9897\n",
      "Epoch 199/200\n",
      "149/149 [==============================] - 1s 3ms/step - loss: 0.0139 - accuracy: 0.9888\n",
      "Epoch 200/200\n",
      "149/149 [==============================] - 1s 3ms/step - loss: 0.0140 - accuracy: 0.9907\n"
     ]
    },
    {
     "data": {
      "text/plain": "<keras.callbacks.History at 0x7fca80c41780>"
     },
     "execution_count": 256,
     "metadata": {},
     "output_type": "execute_result"
    }
   ],
   "source": [
    "model.fit(x_train, y_train, epochs=200)"
   ],
   "metadata": {
    "collapsed": false
   }
  },
  {
   "cell_type": "code",
   "execution_count": 198,
   "outputs": [
    {
     "name": "stdout",
     "output_type": "stream",
     "text": [
      "Model: \"sequential_22\"\n",
      "_________________________________________________________________\n",
      " Layer (type)                Output Shape              Param #   \n",
      "=================================================================\n",
      " text_vectorization_7 (TextV  (None, None)             0         \n",
      " ectorization)                                                   \n",
      "                                                                 \n",
      " embedding (Embedding)       (None, None, 100)         158600    \n",
      "                                                                 \n",
      " lambda_17 (Lambda)          (None, 100)               0         \n",
      "                                                                 \n",
      " dense_17 (Dense)            (None, 1586)              160186    \n",
      "                                                                 \n",
      "=================================================================\n",
      "Total params: 318,786\n",
      "Trainable params: 318,786\n",
      "Non-trainable params: 0\n",
      "_________________________________________________________________\n"
     ]
    }
   ],
   "source": [
    "model.summary()"
   ],
   "metadata": {
    "collapsed": false
   }
  },
  {
   "cell_type": "code",
   "execution_count": 160,
   "outputs": [],
   "source": [
    "tok = [\"Resumption of the session\"]"
   ],
   "metadata": {
    "collapsed": false
   }
  },
  {
   "cell_type": "code",
   "execution_count": 128,
   "outputs": [
    {
     "data": {
      "text/plain": "TensorShape([1, 4])"
     },
     "execution_count": 128,
     "metadata": {},
     "output_type": "execute_result"
    }
   ],
   "source": [
    "xtemp = model.layers[0](tok)\n",
    "xtemp.shape"
   ],
   "metadata": {
    "collapsed": false
   }
  },
  {
   "cell_type": "code",
   "execution_count": 129,
   "outputs": [
    {
     "data": {
      "text/plain": "TensorShape([1, 4, 100])"
     },
     "execution_count": 129,
     "metadata": {},
     "output_type": "execute_result"
    }
   ],
   "source": [
    "xtemp = model.layers[1](xtemp)\n",
    "xtemp.shape"
   ],
   "metadata": {
    "collapsed": false
   }
  },
  {
   "cell_type": "code",
   "execution_count": 130,
   "outputs": [
    {
     "data": {
      "text/plain": "TensorShape([1, 100])"
     },
     "execution_count": 130,
     "metadata": {},
     "output_type": "execute_result"
    }
   ],
   "source": [
    "xtemp = model.layers[2](xtemp)\n",
    "xtemp.shape"
   ],
   "metadata": {
    "collapsed": false
   }
  },
  {
   "cell_type": "code",
   "execution_count": 131,
   "outputs": [
    {
     "data": {
      "text/plain": "TensorShape([1, 1586])"
     },
     "execution_count": 131,
     "metadata": {},
     "output_type": "execute_result"
    }
   ],
   "source": [
    "xtemp = model.layers[3](xtemp)\n",
    "xtemp.shape"
   ],
   "metadata": {
    "collapsed": false
   }
  },
  {
   "cell_type": "code",
   "execution_count": 268,
   "outputs": [
    {
     "name": "stdout",
     "output_type": "stream",
     "text": [
      "1/1 [==============================] - 0s 43ms/step\n"
     ]
    }
   ],
   "source": [
    "predict = model.predict(['Resumption of the'])"
   ],
   "metadata": {
    "collapsed": false
   }
  },
  {
   "cell_type": "code",
   "execution_count": 269,
   "outputs": [
    {
     "data": {
      "text/plain": "'group'"
     },
     "execution_count": 269,
     "metadata": {},
     "output_type": "execute_result"
    }
   ],
   "source": [
    "t_layer.get_vocabulary()[np.argmax(predict)]"
   ],
   "metadata": {
    "collapsed": false
   }
  },
  {
   "cell_type": "code",
   "execution_count": null,
   "outputs": [],
   "source": [],
   "metadata": {
    "collapsed": false
   }
  }
 ],
 "metadata": {
  "kernelspec": {
   "display_name": "Python 3",
   "language": "python",
   "name": "python3"
  },
  "language_info": {
   "codemirror_mode": {
    "name": "ipython",
    "version": 2
   },
   "file_extension": ".py",
   "mimetype": "text/x-python",
   "name": "python",
   "nbconvert_exporter": "python",
   "pygments_lexer": "ipython2",
   "version": "2.7.6"
  }
 },
 "nbformat": 4,
 "nbformat_minor": 0
}
